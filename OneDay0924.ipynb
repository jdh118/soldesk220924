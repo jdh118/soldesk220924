{
 "cells": [
  {
   "cell_type": "code",
   "execution_count": 2,
   "id": "c4dd0ee6",
   "metadata": {},
   "outputs": [
    {
     "name": "stdout",
     "output_type": "stream",
     "text": [
      "30\n"
     ]
    }
   ],
   "source": [
    "a = 10\n",
    "b = 20\n",
    "c = a + b\n",
    "print (c)"
   ]
  },
  {
   "cell_type": "code",
   "execution_count": 2,
   "id": "4ec9fe69",
   "metadata": {},
   "outputs": [
    {
     "name": "stdout",
     "output_type": "stream",
     "text": [
      "실행\n"
     ]
    }
   ],
   "source": [
    "print ('실행')"
   ]
  },
  {
   "cell_type": "code",
   "execution_count": 4,
   "id": "2d325836",
   "metadata": {},
   "outputs": [
    {
     "name": "stdout",
     "output_type": "stream",
     "text": [
      "실행해봐\n"
     ]
    }
   ],
   "source": [
    "print(\"실행해봐\")"
   ]
  },
  {
   "cell_type": "code",
   "execution_count": 6,
   "id": "9ae2fefc",
   "metadata": {},
   "outputs": [
    {
     "name": "stdout",
     "output_type": "stream",
     "text": [
      "30\n"
     ]
    }
   ],
   "source": [
    "print(3 * 10)"
   ]
  },
  {
   "cell_type": "code",
   "execution_count": 3,
   "id": "4a5ce50e",
   "metadata": {},
   "outputs": [
    {
     "name": "stdout",
     "output_type": "stream",
     "text": [
      "100\n"
     ]
    }
   ],
   "source": [
    "#한줄에 여러개의 명령을 사용 시\n",
    "a = 10 ; print(a * 10);\n",
    "b = 3"
   ]
  },
  {
   "cell_type": "code",
   "execution_count": 13,
   "id": "9113953d",
   "metadata": {},
   "outputs": [
    {
     "name": "stdout",
     "output_type": "stream",
     "text": [
      "10\n",
      "10.5\n",
      "10\n",
      "10\n",
      "10\n"
     ]
    }
   ],
   "source": [
    "# 파이썬 프로그램 기초, 자료형\n",
    "# 리터널 상수 : 자연어 (한국어, 영어, 프랑스어, 중국어, ....)\n",
    "#                문자, 문자열\n",
    "#                 자연수 (정수, 실수, 지수)\n",
    "print(10) # 정수 리터널을 출력\n",
    "print(10.5) #실수 리터널을 출력\n",
    "a = 10 #변수 a에 10인 정수 리터널 저장\n",
    "# 정수형 변수\n",
    "# 좌측은 변수 a,b,c, 등등, 우측은 리터널 상수\n",
    "print(a)\n",
    "print(    a    )\n",
    "print(    a    )"
   ]
  },
  {
   "cell_type": "code",
   "execution_count": 24,
   "id": "88ef7d1e",
   "metadata": {},
   "outputs": [
    {
     "name": "stdout",
     "output_type": "stream",
     "text": [
      "13\n",
      "7\n",
      "30\n",
      "3.3333333333333335\n",
      "1000\n",
      "1\n",
      "3\n",
      "hellopython\n"
     ]
    },
    {
     "data": {
      "text/plain": [
       "'\\n#안녕#안녕\\n'"
      ]
     },
     "execution_count": 24,
     "metadata": {},
     "output_type": "execute_result"
    }
   ],
   "source": [
    "z01 = a + b\n",
    "z02 = a - b\n",
    "z03 = a * b\n",
    "z04 = a / b\n",
    "z05 = a ** b\n",
    "z06 = a % b\n",
    "z07 = a // b\n",
    "\n",
    "print(z01)\n",
    "print(z02)\n",
    "print(z03)\n",
    "print(z04)\n",
    "print(z05)\n",
    "print(z06)\n",
    "print(z07)\n",
    "\n",
    "\n",
    "print(\"hello\" + \"python\")\n",
    "\"\"\"\n",
    "#안녕#안녕\n",
    "\"\"\""
   ]
  },
  {
   "cell_type": "code",
   "execution_count": 19,
   "id": "9714f892",
   "metadata": {},
   "outputs": [
    {
     "name": "stdout",
     "output_type": "stream",
     "text": [
      "hello\n",
      "hello\n",
      "hello\n",
      "hello\n",
      "hello python\n",
      "행바꿈을 하기 위해서 \n",
      "따옴표3개짜리 만듬\n"
     ]
    }
   ],
   "source": [
    "#문자열 리터널 : 문자상수 : 한국어, 일본어 emd \"\"\"\"\"\" ' '''''''''' 등을 찍어 깅비함\n",
    "print(\"hello\")\n",
    "print('hello')\n",
    "print(\"\"\"hello\"\"\")\n",
    "print('''hello''')\n",
    "print(\"hello\" + \" \" + \"python\")\n",
    "print(\"\"\"행바꿈을 하기 위해서 \n",
    "따옴표3개짜리 만듬\"\"\")"
   ]
  },
  {
   "cell_type": "code",
   "execution_count": 8,
   "id": "a39bd624",
   "metadata": {},
   "outputs": [
    {
     "name": "stdout",
     "output_type": "stream",
     "text": [
      "abc, feg\n",
      "abc, feg\n",
      "abc, \"feg\"\n",
      "abc, \"efg\"\n",
      "abc', efg\n",
      "abc\\, efg\n"
     ]
    }
   ],
   "source": [
    "print(\"abc, feg\")\n",
    "print('abc, feg')\n",
    "print('abc, \"feg\"')\n",
    "print(\"abc, \\\"efg\\\"\")\n",
    "print('abc\\', efg')\n",
    "print(\"abc\\, efg\")"
   ]
  },
  {
   "cell_type": "code",
   "execution_count": 16,
   "id": "cf7fd666",
   "metadata": {},
   "outputs": [
    {
     "name": "stdout",
     "output_type": "stream",
     "text": [
      "Python is fun\n",
      "Pythonis fun\n",
      "Python is fun\n",
      "**************************************************\n",
      "제목\n",
      "**************************************************\n",
      "Life's too short, You need python\n"
     ]
    }
   ],
   "source": [
    "head = \"Python\"\n",
    "tail = \"is fun\"\n",
    "print(\"Python is fun\")\n",
    "print(head + tail)\n",
    "print(head+ \" \" +tail)\n",
    "\n",
    "print(\"*\" * 50)\n",
    "print(\"제목\")\n",
    "print(\"*\" * 50)\n",
    "\n",
    "print('Life\\'s too short, You need python')"
   ]
  },
  {
   "cell_type": "code",
   "execution_count": 20,
   "id": "24bf182e",
   "metadata": {},
   "outputs": [
    {
     "name": "stdout",
     "output_type": "stream",
     "text": [
      "Life's too short, You need python\n"
     ]
    }
   ],
   "source": [
    "str1 = \"Life\\'s too short, You need python\"\n",
    "print(str1)"
   ]
  },
  {
   "cell_type": "code",
   "execution_count": 35,
   "id": "04e25dde",
   "metadata": {},
   "outputs": [
    {
     "name": "stdout",
     "output_type": "stream",
     "text": [
      "Life's too short, You need python\n",
      "Life's too short, You need python\n",
      "33\n",
      "17\n",
      "i\n",
      "L\n",
      "r\n",
      "i\n",
      "o\n",
      " \n",
      "o\n",
      "t\n",
      "t\n",
      "t\n",
      "Life\n"
     ]
    }
   ],
   "source": [
    "print('Life\\'s too short, You need python')\n",
    "print(str1)\n",
    "print(len(str1))\n",
    "\n",
    "str3 = 'Life is too short'\n",
    "print(len(str3))\n",
    "print(str2[5])\n",
    "print(str2[0])\n",
    "print(str2[-2]); print(str2[-12]);\n",
    "print(str2[-7])\n",
    "print(str2[-6]); print(str2[-8])\n",
    "print(str2[-1]); print(str2[16]); print(str2[len(str2) -1])"
   ]
  },
  {
   "cell_type": "code",
   "execution_count": 37,
   "id": "b302353d",
   "metadata": {},
   "outputs": [
    {
     "name": "stdout",
     "output_type": "stream",
     "text": [
      "Life\n"
     ]
    }
   ],
   "source": [
    "print(str2[0]+str2[1]+str2[2]+str2[3])"
   ]
  },
  {
   "cell_type": "code",
   "execution_count": 54,
   "id": "fd3dc511",
   "metadata": {},
   "outputs": [
    {
     "name": "stdout",
     "output_type": "stream",
     "text": [
      "Life is too short\n",
      "Life\n",
      "Life\n",
      "Life i\n",
      "Life\n",
      "Life is\n",
      "Life i\n",
      "too \n"
     ]
    }
   ],
   "source": [
    "print(str2)\n",
    "print(str2[0: 0 + 4]); print(str2[0:4])\n",
    "print(str2[0: 2 + 4]); print(str2[0:4])\n",
    "print(str2[0: 3 + 4]); \n",
    "print(str2[0:6]); \n",
    "print(str2[8:8 + 4]); \n",
    "n = 3\n"
   ]
  },
  {
   "cell_type": "code",
   "execution_count": 59,
   "id": "802bfe5d",
   "metadata": {},
   "outputs": [
    {
     "name": "stdout",
     "output_type": "stream",
     "text": [
      "시작 index를 적으시오.3\n",
      "문자 갯수를 입력하시오9\n",
      "e is too \n"
     ]
    }
   ],
   "source": [
    "str2= \"Life is too short\"\n",
    "\n",
    "start = int(input(\"시작 index를 적으시오.\"))\n",
    "num = int(input(\"문자 갯수를 입력하시오\"))\n",
    "print(str2[start : start + num])\n"
   ]
  },
  {
   "cell_type": "code",
   "execution_count": 71,
   "id": "3bade1e8",
   "metadata": {},
   "outputs": [
    {
     "name": "stdout",
     "output_type": "stream",
     "text": [
      "Life\n",
      "Life\n",
      "Life\n",
      "too short\n",
      "too shor\n",
      "too short\n",
      "too short\n",
      "too sho\n"
     ]
    }
   ],
   "source": [
    "print(str2[0: 0+4])\n",
    "print(str2[0:4])\n",
    "print(str2[:4])\n",
    "print(str2[8:17])\n",
    "print(str2[8:-1])\n",
    "print(str2[8:])\n",
    "print(str2[8:len(str2)])\n",
    "print(str2[8:len(str2) - 2])"
   ]
  },
  {
   "cell_type": "code",
   "execution_count": 78,
   "id": "536cffb3",
   "metadata": {},
   "outputs": [
    {
     "name": "stdout",
     "output_type": "stream",
     "text": [
      " is too sho\n",
      " is too sho\n",
      "is too s\n",
      "is t\n",
      "is t\n"
     ]
    }
   ],
   "source": [
    "print(str2[-13:-2])\n",
    "print(str2[-13:-3+1])\n",
    "print(str2[-12:13])\n",
    "print(str2[-12 : -12 +4])\n",
    "print(str2[-12 : -8])"
   ]
  },
  {
   "cell_type": "code",
   "execution_count": 88,
   "id": "8abfb76f",
   "metadata": {},
   "outputs": [
    {
     "name": "stdout",
     "output_type": "stream",
     "text": [
      "20010331\n",
      "Rainy\n",
      "2\n",
      "3\n",
      "5\n",
      "2\n"
     ]
    }
   ],
   "source": [
    "a = \"20010331Rainy\"\n",
    "print(a[:8])\n",
    "print(a[8:])\n",
    "print(a[0])\n",
    "\n",
    "a1= 3\n",
    "print(a1)\n",
    "a1 = 5\n",
    "print(a1)\n",
    "print(a[0])\n",
    "\n"
   ]
  },
  {
   "cell_type": "code",
   "execution_count": 1,
   "id": "1963f1a8",
   "metadata": {},
   "outputs": [
    {
     "name": "stdout",
     "output_type": "stream",
     "text": [
      "이승우의 계좌번호는 111이고 잔액은 100입니다\n",
      "이승우의 계좌번호는 111이고잔액은 100입니다. \n",
      "이승우의 계좌번호는 111이고 잔액은 100입니다\n"
     ]
    }
   ],
   "source": [
    "account = '111'\n",
    "name = \"이승우\"\n",
    "money = 100\n",
    "\n",
    "print(name + \"의 계좌번호는 \" + account + \"이고 잔액은 \" + str(money) + \"입니다\")\n",
    "print(\"%s의 계좌번호는 %s이고잔액은 %d입니다. \" %(name, account, money))\n",
    "\n",
    "print(name + \"의 계좌번호는 \" + account + \"이고 잔액은 \" + str(money) + \"입니다\")"
   ]
  },
  {
   "cell_type": "code",
   "execution_count": 5,
   "id": "71e35a72",
   "metadata": {},
   "outputs": [
    {
     "name": "stdout",
     "output_type": "stream",
     "text": [
      "<class 'str'>\n",
      "sdssd\n"
     ]
    }
   ],
   "source": [
    "print(str)\n",
    "\n",
    "str66=\"sdssd\"\n",
    "print(str66)"
   ]
  },
  {
   "cell_type": "code",
   "execution_count": 24,
   "id": "558a6488",
   "metadata": {},
   "outputs": [
    {
     "name": "stdout",
     "output_type": "stream",
     "text": [
      "이승우의 나이는 25살이고 키는 175.3입니다\n",
      "이승우의 나이는 25살이고 키는 175입니다. \n",
      "이승우의 나이는 25살이고 키는 175.30000 입니다\n"
     ]
    }
   ],
   "source": [
    "age = 25\n",
    "height = 175.3\n",
    "print(str(name) + \"의 나이는 \" + str(age) + \"살이고 키는 \" + str(height) + \"입니다\")\n",
    "print(\"%s의 나이는 %s살이고 키는 %d입니다. \" %(name, age, height))\n",
    "str3 = \"%s의 나이는 %d살이고 키는 %-10.5f입니다\" %(name, age, height)\n",
    "print(str3)"
   ]
  },
  {
   "cell_type": "code",
   "execution_count": null,
   "id": "13dff803",
   "metadata": {},
   "outputs": [],
   "source": [
    "#format() 함수를 사용한 포매팅\n",
    "#문자 : 'a' \"a\", \"\"\"a\"\"\",'''a''' '10',\"10.5\"\n",
    "#정수 : 10,455\n",
    "#실수 : 10.5\n",
    "#변수 : a, 가, a1, 가1\n",
    "#함수 : a(), 가(, a1(), 가1(), str(), int(), print()\n",
    "\n",
    "단 같은 이름의 변수와 함수를 사용하면 안됨\n",
    "\n",
    "\n"
   ]
  },
  {
   "cell_type": "code",
   "execution_count": 41,
   "id": "9d17b093",
   "metadata": {},
   "outputs": [
    {
     "name": "stdout",
     "output_type": "stream",
     "text": [
      "이승우의 나이는 25살이고 키는 175.30000 입니다\n",
      "이승우님의 나이는 25살이고요, 175.3입니다\n",
      "이승우님의 나이는 25살이고요, 175.3입니다\n",
      "이승우입니다\n",
      "이승우입니다\n",
      "계좌번호 111입니다\n",
      "이승우님의 나이는 25살이고요, 키는 173.5입니다\n"
     ]
    }
   ],
   "source": [
    "# format()  함수를 사용한 포매팅\n",
    "account = '111'\n",
    "name = \"이승우\"\n",
    "money = 100\n",
    "age = 25\n",
    "height = 175.3\n",
    "\n",
    "print(\"%s의 나이는 %d살이고 키는 %0.5f 입니다\" % (name,age,height))\n",
    "print(\"{0}님의 나이는 {1}살이고요, {2}입니다\".format(name,age,height))\n",
    "\n",
    "print(\"{1}님의 나이는 {0}살이고요, {2}입니다\".format(age,name,height))\n",
    "\n",
    "print(\"%s입니다\" %name)\n",
    "print(\"{0}입니다\".format(name))\n",
    "print(\"계좌번호 {0}입니다\".format(account))\n",
    "\n",
    "print(\"{1}님의 나이는 {0}살이고요, 키는 {2}입니다\".format(age,name,173.5))"
   ]
  },
  {
   "cell_type": "code",
   "execution_count": 53,
   "id": "24b0e846",
   "metadata": {},
   "outputs": [
    {
     "name": "stdout",
     "output_type": "stream",
     "text": [
      "이승우님의 나이는 25살이고요, 키는175.3 입니다.\n",
      "이승우님의 나이는 25살이고요, 키는175.3 입니다.\n",
      "이승우님의 나이는 35살이고요, 키는175.3 입니다.\n",
      "이승우님의 나이는 35살이고요, 키는173.5 입니다.\n",
      "이승우님의 나이는 35살이고요, 키는175.3 입니다.\n",
      "이승우님의 나이는 35살이고요, 키는173.5 입니다.\n",
      "이승우님의 나이는 35살이고요, 키는173.5 입니다.\n"
     ]
    }
   ],
   "source": [
    "print(\"{0}님의 나이는 {1}살이고요, 키는{2} 입니다.\" .format(name, age, height))\n",
    "print(\"{0}님의 나이는 {2}살이고요, 키는{1} 입니다.\" .format(name, height, age))\n",
    "print(\"{0}님의 나이는 {bbb}살이고요, 키는{1} 입니다.\" .format(name, height,bbb=35))\n",
    "# 변수 bbb가 중간에 오면 에러생김 print(\"{0}님의 나이는 {bbb}살이고요, 키는{1} 입니다.\" .format(namet,bbb=35, height))\n",
    "print(\"{0}님의 나이는 {bbb}살이고요, 키는{hhh} 입니다.\" .format(name, hhh=173.5,bbb=35))\n",
    "print(\"{0}님의 나이는 {bbb}살이고요, 키는{hhh} 입니다.\" .format(name, hhh=height,bbb=35))\n",
    "#문장이 길어 여러줄로 나누고 싶을때 역슬래쉬\\ 사용함\n",
    "print(\"{0}님의 나이는 {bbb}살이고요, 키는{hhh} 입니다.\" \\\n",
    "      .format(name, hhh=173.5,bbb=35))\n",
    "\n",
    "print(\"{0}님의 나이는 {bbb}살이고요, 키는{hhh} 입니다.\" \\\n",
    "      .format(name\\\n",
    "              , hhh=173.5,bbb=35))"
   ]
  },
  {
   "cell_type": "code",
   "execution_count": 57,
   "id": "62003146",
   "metadata": {},
   "outputs": [
    {
     "name": "stdout",
     "output_type": "stream",
     "text": [
      "이승우님의 나이는 25살이고요 키는 175.3입니다\n",
      "이승우님의 나이는 25살이고요 키는 175.3입니다\n",
      "이승우님의 나이는 25살이고요 키는 175.3입니다\n",
      "이승우님의 나이는 1살이고요 키는 2입니다\n",
      "이승우님의 나이는 25살이고요 키는 175.3입니다\n"
     ]
    }
   ],
   "source": [
    "#f문자열 포매팅\n",
    "'이승무님의 나이는 35살이고요 키는 175.3입니다'\n",
    "\n",
    "#포맷문자\n",
    "print('%s님의 나이는 %d살이고요 키는 %.1f입니다' %(name, age, height))\n",
    "\n",
    "#format()\n",
    "print('{0}님의 나이는 {1}살이고요 키는 {2}입니다'.format(name,age,height))\n",
    "print('{0}님의 나이는 {1}살이고요 키는 {h}입니다'.format(name,age,h=height))\n",
    "#f 문자열\n",
    "print(f'{name}님의 나이는 {1}살이고요 키는 {2}입니다')\n",
    "print(f'{name}님의 나이는 {age}살이고요 키는 {height}입니다')"
   ]
  },
  {
   "cell_type": "code",
   "execution_count": 80,
   "id": "ed2b669b",
   "metadata": {},
   "outputs": [
    {
     "name": "stdout",
     "output_type": "stream",
     "text": [
      "Life is too short, You need python\n",
      "34\n",
      "5\n",
      "5\n",
      "8\n",
      "30\n",
      "16\n",
      "8\n",
      "30\n",
      "16\n",
      "-1\n",
      "8\n",
      "too\n",
      "too shor\n"
     ]
    }
   ],
   "source": [
    "#문자열 가공 :' 문자열 내장 함수 : str()'\n",
    "str1='Life is too short, You need python'\n",
    "print(str1)\n",
    "print(len(str1)) #크기함수\n",
    "#o의 갯수세기\n",
    "cnt = str1.count('o')\n",
    "print(cnt)\n",
    "\n",
    "cnt ='Life is too short, You need python'.count('o')\n",
    "#     012345678901234567890123456\n",
    "print(cnt)\n",
    "\n",
    "#원하는 문자 index\n",
    "idx = str1.find('t')\n",
    "print(idx)\n",
    "\n",
    "idx = str1.rfind('t') #우측에서부터 찾기\n",
    "print(idx)\n",
    "\n",
    "idx = str1.find('t',9) #9번째부터 t찾기\n",
    "print(idx)\n",
    "\n",
    "\n",
    "\n",
    "idx = str1.index('t')\n",
    "print(idx)\n",
    "\n",
    "idx = str1.rindex('t') #우측에서부터 찾기\n",
    "print(idx)\n",
    "\n",
    "idx = str1.index('t',9) #9번째부터 t찾기\n",
    "print(idx)\n",
    "\n",
    "\n",
    "idx = str1.find('m')  #find에서 -1의 결과는 찾는문자가 없다는 뜻\n",
    "print(idx)\n",
    "\"\"\"\n",
    "idx = str1.index('m') #index에서 없는 문자 찾을시는 오류문자 뜸, 없는 문자는 찾지말기\n",
    "print(idx)\n",
    "\"\"\"\n",
    "idx = str1.find('too') #첫번째 index를 가지고 옴\n",
    "print(idx)\n",
    "\n",
    "print(str1[idx : idx + 3])\n",
    "print(str1[str1.find('too') : str1.find('too') + 8])"
   ]
  },
  {
   "cell_type": "code",
   "execution_count": 83,
   "id": "d98fa50c",
   "metadata": {},
   "outputs": [
    {
     "name": "stdout",
     "output_type": "stream",
     "text": [
      "Life is too short, You need python\n",
      "LIFE IS TOO SHORT, YOU NEED PYTHON\n",
      "life is too short, you need python\n",
      "Life is too short, You need python\n"
     ]
    }
   ],
   "source": [
    "# 모두 대문자로 가져오기\n",
    "print(str1)\n",
    "strUpper = str1.upper()\n",
    "print(strUpper)\n",
    "# 모두 소문자로 가져오기\n",
    "strLower = str1.lower()\n",
    "print(strLower)\n",
    "print(str1)"
   ]
  },
  {
   "cell_type": "code",
   "execution_count": 91,
   "id": "eb514047",
   "metadata": {},
   "outputs": [
    {
     "name": "stdout",
     "output_type": "stream",
     "text": [
      "  abcd  \n",
      "abcd\n",
      "ab  cd\n",
      "이숭무\n"
     ]
    }
   ],
   "source": [
    "# 앞 뒤 문자 삭제\n",
    "c = '  abcd  '\n",
    "print(c)\n",
    "result = c.strip();\n",
    "print(result)\n",
    "\n",
    "d = '  ab  cd  '\n",
    "result = d.strip()\n",
    "print(result)\n",
    "\n",
    "f = 'ab이숭무ab'\n",
    "result = f.strip('ab')\n",
    "print(result)"
   ]
  },
  {
   "cell_type": "code",
   "execution_count": 105,
   "id": "e65b3523",
   "metadata": {},
   "outputs": [
    {
     "name": "stdout",
     "output_type": "stream",
     "text": [
      "Your leg is too short\n",
      "Life is too short\n",
      "['Life', 'is', 'too', 'short']\n",
      "['Life', 'is', 'too', 'short']\n",
      "['L', 'fe:', 's:too:short']\n",
      "['Life:is:t', '', ':sh', 'rt']\n",
      "Lifeistooshort\n"
     ]
    }
   ],
   "source": [
    "b = \"Life is too short\"\n",
    "#\"Life\" 를 \"Your Leg\"로 변경\n",
    "result = b.replace('Life', 'Your leg')\n",
    "print(result)\n",
    "print(b)\n",
    "\n",
    "#문자열 쪼개기\n",
    "result = b.split()   #####split를 하게 되면 리스트로 받아온다 [   ,   ,   ]\n",
    "print(result)\n",
    "\n",
    "b = \"Life:is:too:short\"\n",
    "result = b.split(\":\") \n",
    "print(result)\n",
    "\n",
    "b = \"Life:is:too:short\"\n",
    "result = b.split(\"i\") \n",
    "print(result)\n",
    "\n",
    "b = \"Life:is:too:short\"\n",
    "result = b.split(\"o\") \n",
    "print(result)\n",
    "\n",
    "\n",
    "c = \"Life is too short\"\n",
    "result = c.replace(' ', '')\n",
    "print(result)\n",
    "\n"
   ]
  },
  {
   "cell_type": "code",
   "execution_count": null,
   "id": "aa771401",
   "metadata": {},
   "outputs": [],
   "source": [
    "###문자열 함수\n",
    "split()\n",
    "replace()\n",
    "rstrip()\n",
    "lstrip()\n",
    "upper()\n",
    "lower()\n",
    "index()\n",
    "find()\n",
    "rindex()\n",
    "rfind()\n",
    "len()\n",
    "count()"
   ]
  },
  {
   "cell_type": "code",
   "execution_count": 121,
   "id": "4c04df64",
   "metadata": {},
   "outputs": [
    {
     "name": "stdout",
     "output_type": "stream",
     "text": [
      "1\n",
      "1\n",
      "10.5\n",
      "[1, 2]\n",
      "[1, 2, 3, 'a']\n",
      "[[1, 2], [3, 4]]\n",
      "[]\n",
      "['Life', 'is', 'too', 'short']\n",
      "['Life', 'is', 'too', 'short']\n"
     ]
    }
   ],
   "source": [
    "# 정수 리터널 : 10, 1\n",
    "\n",
    "#실수 리터널 : 10.5, 1.555\n",
    "\n",
    "#문자열 리터널 : \"\", '', \"\"\"\"\"\"\", ''' ''', a:변수, a():함수, '10', 110.5\n",
    "\n",
    "# 리스트 자료형 : [], [1,2,3], ['a'',b']  ['1', 'a'] : 여러개(정수, 실수, 문자 등의 여러 유형 데이터를 저장하기 위해서\n",
    "\n",
    "print(1)\n",
    "print('1')\n",
    "print(10.5)\n",
    "print([1,2])\n",
    "print([1,2]+[3,'a'])\n",
    "print([[1,2],[3,4]]) #리스트를 가진 리스트\n",
    "l = [] #빈리스트\n",
    "print(l)\n",
    "\n",
    "a = \"Life:is:too:short\"\n",
    "k = a.split(\":\") \n",
    "print(k)\n",
    "\n",
    "a = \"Life:is:too:short\"\n",
    "l = a.split(\":\") \n",
    "print(l)"
   ]
  },
  {
   "cell_type": "code",
   "execution_count": 132,
   "id": "85e0f3bb",
   "metadata": {},
   "outputs": [
    {
     "name": "stdout",
     "output_type": "stream",
     "text": [
      "f\n",
      "e i\n",
      "Lo\n",
      "1\n",
      "4\n",
      "[2, 3, 4, 5]\n",
      "6\n",
      "Life\n",
      "too\n",
      "Lifetoo\n"
     ]
    }
   ],
   "source": [
    "a = \"Life is too short\"\n",
    "#    01234567890123456\n",
    "\n",
    "print(a[2])\n",
    "print(a[3:6])\n",
    "print(a[0] + a[10])\n",
    "l = [1,2,3,4,5,6] #  리스트 안에 있는 것을 요소라고 한다\n",
    "#    0 1 2 3 4 5  : index :  사용 방법은 문자열과 같다\n",
    "print(l[0])\n",
    "print(l[3])\n",
    "print(l[1: 1 + 4])\n",
    "print(l[3]+l[1])\n",
    "\n",
    "l = ['Life', 'is', 'too', 'short']\n",
    "print(l[0])\n",
    "print(l[2])\n",
    "print(l[0] + l[2])"
   ]
  },
  {
   "cell_type": "code",
   "execution_count": 139,
   "id": "56b31622",
   "metadata": {},
   "outputs": [
    {
     "name": "stdout",
     "output_type": "stream",
     "text": [
      "['a', 'b', 'c']\n",
      "b\n",
      "b\n"
     ]
    }
   ],
   "source": [
    "a = [1,2,3,['a', 'b', 'c']]\n",
    "#    0 1 2        3\n",
    "#            0    1     2\n",
    "#    4  3  2       1      (-) 마이너스, 우측부터 세기\n",
    "#         3   2      1    -) \n",
    "    \n",
    "print(a[3])\n",
    "print(a[3][1])\n",
    "print(a[-1][-2])"
   ]
  },
  {
   "cell_type": "code",
   "execution_count": 140,
   "id": "4fab46f3",
   "metadata": {},
   "outputs": [
    {
     "name": "stdout",
     "output_type": "stream",
     "text": [
      "Life\n"
     ]
    }
   ],
   "source": [
    "a = [1,2,['a', 'b', ['Life', 'is']]]\n",
    "print(a[2][2][0])"
   ]
  },
  {
   "cell_type": "code",
   "execution_count": 154,
   "id": "45f5d3a0",
   "metadata": {},
   "outputs": [
    {
     "name": "stdout",
     "output_type": "stream",
     "text": [
      "too\n",
      "1\n",
      "[2, 3]\n",
      "[1, 2, 3, 4, 5]\n",
      "[2, 3]\n"
     ]
    }
   ],
   "source": [
    "###리스트의 슬라이싱\n",
    "a= 'Life is too short'\n",
    "print(a[8:8+3])\n",
    "\n",
    "l = [1,2,3,4,5,]\n",
    "\n",
    "print(l[0])\n",
    "print(l[1:3]) #슬라이싱을 하면 무조건 [  ] 리스트로 가지고 옴\n",
    "print(l[0:0+5])\n",
    "print(l[1:1+2])"
   ]
  },
  {
   "cell_type": "code",
   "execution_count": null,
   "id": "de13aa51",
   "metadata": {},
   "outputs": [],
   "source": []
  }
 ],
 "metadata": {
  "kernelspec": {
   "display_name": "Python 3 (ipykernel)",
   "language": "python",
   "name": "python3"
  },
  "language_info": {
   "codemirror_mode": {
    "name": "ipython",
    "version": 3
   },
   "file_extension": ".py",
   "mimetype": "text/x-python",
   "name": "python",
   "nbconvert_exporter": "python",
   "pygments_lexer": "ipython3",
   "version": "3.9.13"
  }
 },
 "nbformat": 4,
 "nbformat_minor": 5
}
